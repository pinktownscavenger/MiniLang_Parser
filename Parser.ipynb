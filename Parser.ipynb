{
 "cells": [
  {
   "cell_type": "code",
   "execution_count": 26,
   "metadata": {},
   "outputs": [],
   "source": [
    "import re"
   ]
  },
  {
   "cell_type": "code",
   "execution_count": 27,
   "metadata": {},
   "outputs": [],
   "source": [
    "# Custom exception class for syntax errors\n",
    "class SyntaxError(Exception):\n",
    "    pass"
   ]
  },
  {
   "cell_type": "code",
   "execution_count": 28,
   "metadata": {},
   "outputs": [],
   "source": [
    "# Function to tokenize the input expression\n",
    "def tokenize(expression):\n",
    "    tokens = []\n",
    "    # Define token patterns using regular expressions\n",
    "    patterns = [\n",
    "        (r'[0-9]+', 'NUMBER'),\n",
    "        (r'[a-zA-Z]+', 'VARIABLE'),\n",
    "        (r'\\+', 'ADD'),\n",
    "        (r'-', 'SUB'),\n",
    "        (r'\\*', 'MUL'),\n",
    "        (r'\\(', 'LPAREN'),\n",
    "        (r'\\)', 'RPAREN')\n",
    "    ]\n",
    "    # Combine patterns into a single regular expression\n",
    "    combined_patterns = '|'.join('(%s)' % pattern for pattern, _ in patterns)\n",
    "    # Iterate over matches in the input expression\n",
    "    for match in re.finditer(combined_patterns, expression):\n",
    "        # Identify the matched token type and value\n",
    "        for i, (pattern, token_type) in enumerate(patterns):\n",
    "            if match.group(i + 1):\n",
    "                tokens.append((token_type, match.group())) # Add token to the list\n",
    "    return tokens"
   ]
  },
  {
   "cell_type": "code",
   "execution_count": 29,
   "metadata": {},
   "outputs": [],
   "source": [
    "# Function to parse an expression\n",
    "def parse_expr(tokens):\n",
    "    term_node = parse_term(tokens) # Parse the term\n",
    "    expr_prime_node = parse_expr_prime(tokens) # Parse the expression prime\n",
    "    if tokens:\n",
    "        raise SyntaxError(\"Unexpected tokens at the end of the expression\") # Check for unexpected tokens\n",
    "    return ('expr', term_node, expr_prime_node) # Return the parse tree for the expression\n",
    "\n",
    "# Function to parse expression primes (handles addition and subtraction)\n",
    "def parse_expr_prime(tokens):\n",
    "    if tokens and tokens[0][1] in ('+', '-'): # Check for addition or subtraction operator\n",
    "        operator = tokens[0][1] # Get the operator\n",
    "        tokens.pop(0)  # Consume the operator token\n",
    "        term_node = parse_term(tokens) # Parse the term\n",
    "        expr_prime_node = parse_expr_prime(tokens) # Parse the expression prime recursively\n",
    "        return ('expr_prime', operator, term_node, expr_prime_node) # Return the parse tree node for expression prime\n",
    "    else:\n",
    "        return ('expr_prime', None) # Return None if no expression prime\n",
    "\n",
    "# Function to parse a term\n",
    "def parse_term(tokens):\n",
    "    factor_node = parse_factor(tokens) # Parse the factor\n",
    "    term_prime_node = parse_term_prime(tokens) # Parse the term prime\n",
    "    return ('term', factor_node, term_prime_node) # Return the parse tree node for the term\n",
    "\n",
    "# Function to parse term primes (handles multiplication)\n",
    "def parse_term_prime(tokens):\n",
    "    if tokens and tokens[0][1] == '*': # Check for multiplication operator\n",
    "        tokens.pop(0)  # Consume the '*' token\n",
    "        factor_node = parse_factor(tokens) # Parse the factor\n",
    "        term_prime_node = parse_term_prime(tokens) # Parse the term prime recursively\n",
    "        return ('term_prime', '*', factor_node, term_prime_node) # Return the parse tree node for term prime\n",
    "    else:\n",
    "        return ('term_prime', None) # Return None if no term prime\n",
    "\n",
    "# Function to parse a factor\n",
    "def parse_factor(tokens):\n",
    "    token_type, token_value = tokens.pop(0) # Get the token type and value\n",
    "    if token_type == 'NUMBER' or token_type == 'VARIABLE': # Check if token is a number or variable\n",
    "        return ('factor', token_type, token_value) # Return the parse tree node for factor\n",
    "    elif token_type == 'LPAREN': # Check if token is a left parenthesis\n",
    "        expr_node = parse_expr(tokens)  # Parse the enclosed expression\n",
    "        if tokens[0][0] != 'RPAREN': # Check for matching right parenthesis\n",
    "            raise SyntaxError(\"Missing closing parenthesis\") # Raise error if closing parenthesis is missing\n",
    "        tokens.pop(0)  # Consume the ')' token\n",
    "        return ('factor', 'EXPR', expr_node) # Return the parse tree node for factor with enclosed expression\n",
    "    else:\n",
    "        raise SyntaxError(\"Unexpected token: %s\" % token_value) # Raise error for unexpected token\n",
    "\n",
    "# Function to test the parser with given expressions   \n",
    "def test_parser(expressions):\n",
    "    for expr in expressions:\n",
    "        print(\"Parsing:\", expr) # Print the expression being parsed\n",
    "        try:\n",
    "            tokens = tokenize(expr) # Tokenize the expression\n",
    "            parse_tree = parse_expr(tokens) # Parse the expression\n",
    "            print(\"Parse Tree:\", parse_tree) # Print the parse tree\n",
    "        except SyntaxError as e:\n",
    "            print(\"Syntax Error:\", e) # Handle syntax errors\n",
    "        print() # Print newline for clarity"
   ]
  },
  {
   "cell_type": "code",
   "execution_count": 30,
   "metadata": {},
   "outputs": [
    {
     "name": "stdout",
     "output_type": "stream",
     "text": [
      "Parsing: a + 5\n",
      "Parse Tree: ('expr', ('term', ('factor', 'VARIABLE', 'a'), ('term_prime', None)), ('expr_prime', '+', ('term', ('factor', 'NUMBER', '5'), ('term_prime', None)), ('expr_prime', None)))\n",
      "\n",
      "Parsing: 3 * b - 2\n",
      "Parse Tree: ('expr', ('term', ('factor', 'NUMBER', '3'), ('term_prime', '*', ('factor', 'VARIABLE', 'b'), ('term_prime', None))), ('expr_prime', '-', ('term', ('factor', 'NUMBER', '2'), ('term_prime', None)), ('expr_prime', None)))\n",
      "\n",
      "Parsing: x * (y + 7)\n",
      "Syntax Error: Unexpected tokens at the end of the expression\n",
      "\n",
      "Parsing: a / 5\n",
      "Syntax Error: Unexpected tokens at the end of the expression\n",
      "\n",
      "Parsing: 3 * [ b - 2]\n",
      "Parse Tree: ('expr', ('term', ('factor', 'NUMBER', '3'), ('term_prime', '*', ('factor', 'VARIABLE', 'b'), ('term_prime', None))), ('expr_prime', '-', ('term', ('factor', 'NUMBER', '2'), ('term_prime', None)), ('expr_prime', None)))\n",
      "\n",
      "Parsing: x / {y + 7}\n",
      "Syntax Error: Unexpected tokens at the end of the expression\n",
      "\n"
     ]
    }
   ],
   "source": [
    "def main():\n",
    "    expressions = [\n",
    "        \"a + 5\",\n",
    "        \"3 * b - 2\",\n",
    "        \"x * (y + 7)\",\n",
    "        \"a / 5\",\n",
    "        \"3 * [ b - 2]\",\n",
    "        \"x / {y + 7}\"\n",
    "    ]\n",
    "    test_parser(expressions)\n",
    "\n",
    "if __name__ == \"__main__\":\n",
    "    main()"
   ]
  }
 ],
 "metadata": {
  "kernelspec": {
   "display_name": "Python 3",
   "language": "python",
   "name": "python3"
  },
  "language_info": {
   "codemirror_mode": {
    "name": "ipython",
    "version": 3
   },
   "file_extension": ".py",
   "mimetype": "text/x-python",
   "name": "python",
   "nbconvert_exporter": "python",
   "pygments_lexer": "ipython3",
   "version": "3.11.1"
  }
 },
 "nbformat": 4,
 "nbformat_minor": 2
}
